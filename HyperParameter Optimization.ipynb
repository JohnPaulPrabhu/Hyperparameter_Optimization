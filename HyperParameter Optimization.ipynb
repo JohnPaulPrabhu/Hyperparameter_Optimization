{
 "cells": [
  {
   "cell_type": "markdown",
   "id": "71725be8-4955-45c5-bccd-2fb765476197",
   "metadata": {},
   "source": [
    "### All Techniques Of Hyper Parameter Optimization\n",
    "\n",
    "1. GridSearchCV\n",
    "2. RandomizedSearchCV\n",
    "3. Bayesian Optimization -Automate Hyperparameter Tuning (Hyperopt)\n",
    "4. Sequential Model Based Optimization(Tuning a scikit-learn estimator with skopt)\n",
    "4. Optuna- Automate Hyperparameter Tuning\n",
    "5. Genetic Algorithms (TPOT Classifier)\n",
    "\n",
    "###### References\n",
    "- https://github.com/fmfn/BayesianOptimization\n",
    "- https://github.com/hyperopt/hyperopt\n",
    "- https://www.jeremyjordan.me/hyperparameter-tuning/\n",
    "- https://optuna.org/\n",
    "- https://towardsdatascience.com/hyperparameters-optimization-526348bb8e2d(By Pier Paolo Ippolito )\n",
    "- https://scikit-optimize.github.io/stable/auto_examples/hyperparameter-optimization.html\n",
    "imization.html\n"
   ]
  },
  {
   "cell_type": "code",
   "execution_count": 2,
   "id": "55f31128-43ab-487f-8975-b987587c3ee0",
   "metadata": {},
   "outputs": [],
   "source": [
    "import pandas as pd\n",
    "import numpy as np\n",
    "from sklearn.model_selection import train_test_split\n",
    "from sklearn.preprocessing import StandardScaler\n",
    "import torch\n",
    "import torch.nn as nn\n",
    "import torch.optim as optim\n",
    "from torch.utils.data import DataLoader, TensorDataset"
   ]
  },
  {
   "cell_type": "code",
   "execution_count": 3,
   "id": "7f27a19b-009a-4ad7-80bc-5e396d8a5be3",
   "metadata": {},
   "outputs": [],
   "source": [
    "import warnings\n",
    "warnings.filterwarnings('ignore')"
   ]
  },
  {
   "cell_type": "code",
   "execution_count": 4,
   "id": "2aefaa71-4c07-4d25-a27d-4a1c7306f527",
   "metadata": {},
   "outputs": [
    {
     "data": {
      "text/plain": [
       "'cuda'"
      ]
     },
     "execution_count": 4,
     "metadata": {},
     "output_type": "execute_result"
    }
   ],
   "source": [
    "device = 'cuda' if torch.cuda.is_available() else 'cpu'\n",
    "device"
   ]
  },
  {
   "cell_type": "code",
   "execution_count": 5,
   "id": "9e14f607-4aea-4ad8-850c-b4dfe1651275",
   "metadata": {},
   "outputs": [],
   "source": [
    "#  Laod the dataset\n",
    "file_path = \"diabetes.csv\"\n",
    "df = pd.read_csv(file_path)"
   ]
  },
  {
   "cell_type": "code",
   "execution_count": 6,
   "id": "b1da773f-a9a0-4f3e-ab91-da65a95e38a2",
   "metadata": {},
   "outputs": [
    {
     "data": {
      "text/html": [
       "<div>\n",
       "<style scoped>\n",
       "    .dataframe tbody tr th:only-of-type {\n",
       "        vertical-align: middle;\n",
       "    }\n",
       "\n",
       "    .dataframe tbody tr th {\n",
       "        vertical-align: top;\n",
       "    }\n",
       "\n",
       "    .dataframe thead th {\n",
       "        text-align: right;\n",
       "    }\n",
       "</style>\n",
       "<table border=\"1\" class=\"dataframe\">\n",
       "  <thead>\n",
       "    <tr style=\"text-align: right;\">\n",
       "      <th></th>\n",
       "      <th>Pregnancies</th>\n",
       "      <th>Glucose</th>\n",
       "      <th>BloodPressure</th>\n",
       "      <th>SkinThickness</th>\n",
       "      <th>Insulin</th>\n",
       "      <th>BMI</th>\n",
       "      <th>DiabetesPedigreeFunction</th>\n",
       "      <th>Age</th>\n",
       "      <th>Outcome</th>\n",
       "    </tr>\n",
       "  </thead>\n",
       "  <tbody>\n",
       "    <tr>\n",
       "      <th>0</th>\n",
       "      <td>6</td>\n",
       "      <td>148</td>\n",
       "      <td>72</td>\n",
       "      <td>35</td>\n",
       "      <td>0</td>\n",
       "      <td>33.6</td>\n",
       "      <td>0.627</td>\n",
       "      <td>50</td>\n",
       "      <td>1</td>\n",
       "    </tr>\n",
       "    <tr>\n",
       "      <th>1</th>\n",
       "      <td>1</td>\n",
       "      <td>85</td>\n",
       "      <td>66</td>\n",
       "      <td>29</td>\n",
       "      <td>0</td>\n",
       "      <td>26.6</td>\n",
       "      <td>0.351</td>\n",
       "      <td>31</td>\n",
       "      <td>0</td>\n",
       "    </tr>\n",
       "    <tr>\n",
       "      <th>2</th>\n",
       "      <td>8</td>\n",
       "      <td>183</td>\n",
       "      <td>64</td>\n",
       "      <td>0</td>\n",
       "      <td>0</td>\n",
       "      <td>23.3</td>\n",
       "      <td>0.672</td>\n",
       "      <td>32</td>\n",
       "      <td>1</td>\n",
       "    </tr>\n",
       "    <tr>\n",
       "      <th>3</th>\n",
       "      <td>1</td>\n",
       "      <td>89</td>\n",
       "      <td>66</td>\n",
       "      <td>23</td>\n",
       "      <td>94</td>\n",
       "      <td>28.1</td>\n",
       "      <td>0.167</td>\n",
       "      <td>21</td>\n",
       "      <td>0</td>\n",
       "    </tr>\n",
       "    <tr>\n",
       "      <th>4</th>\n",
       "      <td>0</td>\n",
       "      <td>137</td>\n",
       "      <td>40</td>\n",
       "      <td>35</td>\n",
       "      <td>168</td>\n",
       "      <td>43.1</td>\n",
       "      <td>2.288</td>\n",
       "      <td>33</td>\n",
       "      <td>1</td>\n",
       "    </tr>\n",
       "  </tbody>\n",
       "</table>\n",
       "</div>"
      ],
      "text/plain": [
       "   Pregnancies  Glucose  BloodPressure  SkinThickness  Insulin   BMI  \\\n",
       "0            6      148             72             35        0  33.6   \n",
       "1            1       85             66             29        0  26.6   \n",
       "2            8      183             64              0        0  23.3   \n",
       "3            1       89             66             23       94  28.1   \n",
       "4            0      137             40             35      168  43.1   \n",
       "\n",
       "   DiabetesPedigreeFunction  Age  Outcome  \n",
       "0                     0.627   50        1  \n",
       "1                     0.351   31        0  \n",
       "2                     0.672   32        1  \n",
       "3                     0.167   21        0  \n",
       "4                     2.288   33        1  "
      ]
     },
     "execution_count": 6,
     "metadata": {},
     "output_type": "execute_result"
    }
   ],
   "source": [
    "df.head()"
   ]
  },
  {
   "cell_type": "code",
   "execution_count": 7,
   "id": "8c55267c-082d-4e57-88a4-9947b7cbaf53",
   "metadata": {},
   "outputs": [],
   "source": [
    "df[\"Glucose\"] = np.where(df[\"Glucose\"] == 0, df[\"Glucose\"].median(), df[\"Glucose\"])"
   ]
  },
  {
   "cell_type": "code",
   "execution_count": 8,
   "id": "75972cb4-f363-4c26-86ff-350f1329ef67",
   "metadata": {},
   "outputs": [],
   "source": [
    "# Split the data into feature and target variable\n",
    "x = df.drop(columns=[\"Outcome\"])\n",
    "y = df[\"Outcome\"]\n",
    "\n",
    "# Split the data into traon and test\n",
    "x_train, x_test, y_train, y_test = train_test_split(x, y, test_size=0.2, random_state=42)"
   ]
  },
  {
   "cell_type": "code",
   "execution_count": 9,
   "id": "9183d969-2f80-4ecc-a7a9-f57b3ff1506e",
   "metadata": {},
   "outputs": [],
   "source": [
    "# scale the features\n",
    "scaler = StandardScaler()\n",
    "x_train = scaler.fit_transform(x_train)\n",
    "x_test= scaler.transform(x_test)"
   ]
  },
  {
   "cell_type": "code",
   "execution_count": 10,
   "id": "d7afa176-19bd-45cc-93a2-7509c767bffb",
   "metadata": {},
   "outputs": [],
   "source": [
    "# convert to PyTorch tensors\n",
    "x_train = torch.tensor(x_train, dtype=torch.float32)\n",
    "x_test = torch.tensor(x_test, dtype=torch.float32)\n",
    "y_train = torch.tensor(y_train.values, dtype=torch.float32).unsqueeze(1)\n",
    "y_test = torch.tensor(y_test.values, dtype=torch.float32).unsqueeze(1)\n",
    "\n",
    "# Ensure the target labels are 1-dimensional\n",
    "y_train = torch.flatten(y_train)\n",
    "y_test = torch.flatten(y_test)"
   ]
  },
  {
   "cell_type": "code",
   "execution_count": 11,
   "id": "fab830c1-a050-447a-9ead-d7499cf1c210",
   "metadata": {},
   "outputs": [],
   "source": [
    "# Create DataLoader\n",
    "train_dataset = TensorDataset(x_train, y_train)\n",
    "test_dataset = TensorDataset(x_test, y_test)\n",
    "train_loader = DataLoader(train_dataset, batch_size=12, shuffle=True)\n",
    "test_loader = DataLoader(test_dataset, batch_size=12, shuffle=True)"
   ]
  },
  {
   "cell_type": "code",
   "execution_count": 12,
   "id": "9320daf2-ffa2-4aba-87aa-f9afbbb4eb83",
   "metadata": {},
   "outputs": [],
   "source": [
    "from skorch import NeuralNetBinaryClassifier\n",
    "from sklearn.model_selection import RandomizedSearchCV\n",
    "\n",
    "class Classifier(nn.Module):\n",
    "    def __init__(self, dropout=0.3):\n",
    "        super(Classifier, self).__init__()\n",
    "        self.fc1 = nn.Linear(x_train.shape[1], 64)\n",
    "        self.batch_norm1 = nn.BatchNorm1d(64)\n",
    "        self.dropout = nn.Dropout(dropout)\n",
    "\n",
    "        self.fc2 = nn.Linear(64, 32)\n",
    "        self.batch_norm2 = nn.BatchNorm1d(32)\n",
    "\n",
    "        self.fc3 = nn.Linear(32, 16)\n",
    "        self.batch_norm3 = nn.BatchNorm1d(16)\n",
    "\n",
    "        self.fc4 = nn.Linear(16, 1)\n",
    "        self.sigmoid = nn.Sigmoid()\n",
    "\n",
    "\n",
    "    def forward(self, x):\n",
    "        x = torch.relu(self.fc1(x))\n",
    "        x = self.batch_norm1(x)\n",
    "        x = self.dropout(x)\n",
    "    \n",
    "        x = torch.relu(self.fc2(x))\n",
    "        x = self.batch_norm2(x)\n",
    "        x = self.dropout(x)\n",
    "\n",
    "        x = torch.relu(self.fc3(x))\n",
    "        x = self.batch_norm3(x)\n",
    "        x = self.dropout(x)\n",
    "\n",
    "        x = self.fc4(x)\n",
    "        x = self.sigmoid(x)\n",
    "        return x\n",
    "\n",
    "criterion = nn.BCELoss()\n",
    "net = NeuralNetBinaryClassifier(\n",
    "    Classifier,\n",
    "    max_epochs=50,\n",
    "    lr = 0.001,\n",
    "    optimizer=optim.Adam,\n",
    "    criterion=criterion,\n",
    "    iterator_train__shuffle=True,\n",
    "    verbose=0,\n",
    "    device=device\n",
    ")"
   ]
  },
  {
   "cell_type": "code",
   "execution_count": 13,
   "id": "db9a25cc-63b1-42ca-8cb9-2e0e727c5c3e",
   "metadata": {},
   "outputs": [
    {
     "name": "stdout",
     "output_type": "stream",
     "text": [
      "Number of CPUs in the system: 28\n"
     ]
    }
   ],
   "source": [
    "import os\n",
    "  \n",
    "n_cpu = os.cpu_count()\n",
    "print(\"Number of CPUs in the system:\", n_cpu)"
   ]
  },
  {
   "cell_type": "code",
   "execution_count": null,
   "id": "d2a4e045-fab4-4ec5-ba60-5b8a2a902b32",
   "metadata": {},
   "outputs": [
    {
     "name": "stdout",
     "output_type": "stream",
     "text": [
      "Fitting 3 folds for each of 200 candidates, totalling 600 fits\n"
     ]
    }
   ],
   "source": [
    "param = {\n",
    "    'lr': [0.01, 0.001, 0.0001],\n",
    "    'max_epochs': [20, 50, 100],\n",
    "    'module__dropout': [0.2, 0.3, 0.5],\n",
    "    'optimizer__weight_decay': [0, 1e-5, 1e-4, 1e-3],\n",
    "    'batch_size': [32, 64, 128]\n",
    "}\n",
    "\n",
    "\n",
    "model = RandomizedSearchCV(\n",
    "    net,\n",
    "    param_distributions=param,\n",
    "    n_iter=200,\n",
    "    n_jobs=-1,\n",
    "    random_state=42,\n",
    "    cv=3,\n",
    "    verbose=2,\n",
    "    scoring='accuracy'\n",
    ")\n",
    "\n",
    "model.fit(x_train, y_train)"
   ]
  },
  {
   "cell_type": "code",
   "execution_count": 15,
   "id": "e40eb637-36c7-4f8b-96d1-c634882ff425",
   "metadata": {},
   "outputs": [
    {
     "name": "stdout",
     "output_type": "stream",
     "text": [
      "Best Parameters: {'optimizer__weight_decay': 0.001, 'module__dropout': 0.5, 'max_epochs': 100, 'lr': 0.001, 'batch_size': 64}\n"
     ]
    }
   ],
   "source": [
    "print(\"Best Parameters:\", model.best_params_)"
   ]
  },
  {
   "cell_type": "code",
   "execution_count": 16,
   "id": "a004c0c8-5ffa-45d2-a7bc-743c0006216a",
   "metadata": {},
   "outputs": [
    {
     "name": "stdout",
     "output_type": "stream",
     "text": [
      "<class 'skorch.classifier.NeuralNetBinaryClassifier'>[initialized](\n",
      "  module_=Classifier(\n",
      "    (fc1): Linear(in_features=8, out_features=64, bias=True)\n",
      "    (batch_norm1): BatchNorm1d(64, eps=1e-05, momentum=0.1, affine=True, track_running_stats=True)\n",
      "    (dropout): Dropout(p=0.5, inplace=False)\n",
      "    (fc2): Linear(in_features=64, out_features=32, bias=True)\n",
      "    (batch_norm2): BatchNorm1d(32, eps=1e-05, momentum=0.1, affine=True, track_running_stats=True)\n",
      "    (fc3): Linear(in_features=32, out_features=16, bias=True)\n",
      "    (batch_norm3): BatchNorm1d(16, eps=1e-05, momentum=0.1, affine=True, track_running_stats=True)\n",
      "    (fc4): Linear(in_features=16, out_features=1, bias=True)\n",
      "    (sigmoid): Sigmoid()\n",
      "  ),\n",
      ")\n"
     ]
    }
   ],
   "source": [
    "best_model = model.best_estimator_\n",
    "print(best_model)"
   ]
  },
  {
   "cell_type": "code",
   "execution_count": 17,
   "id": "33c79234-65f0-460f-b5b2-dc0671765c7d",
   "metadata": {},
   "outputs": [
    {
     "name": "stdout",
     "output_type": "stream",
     "text": [
      "[[81 18]\n",
      " [19 36]]\n",
      "accuracy_score 0.7597402597402597\n",
      "Classification Report               precision    recall  f1-score   support\n",
      "\n",
      "         0.0       0.81      0.82      0.81        99\n",
      "         1.0       0.67      0.65      0.66        55\n",
      "\n",
      "    accuracy                           0.76       154\n",
      "   macro avg       0.74      0.74      0.74       154\n",
      "weighted avg       0.76      0.76      0.76       154\n",
      "\n"
     ]
    }
   ],
   "source": [
    "from sklearn.metrics import accuracy_score, classification_report, confusion_matrix\n",
    "\n",
    "y_pred = best_model.predict(x_test)\n",
    "print(confusion_matrix(y_test, y_pred))\n",
    "print(\"accuracy_score {}\".format(accuracy_score(y_test, y_pred)))\n",
    "print(\"Classification Report {}\".format(classification_report(y_test, y_pred)))"
   ]
  }
 ],
 "metadata": {
  "kernelspec": {
   "display_name": "Python 3 (ipykernel)",
   "language": "python",
   "name": "python3"
  },
  "language_info": {
   "codemirror_mode": {
    "name": "ipython",
    "version": 3
   },
   "file_extension": ".py",
   "mimetype": "text/x-python",
   "name": "python",
   "nbconvert_exporter": "python",
   "pygments_lexer": "ipython3",
   "version": "3.11.7"
  }
 },
 "nbformat": 4,
 "nbformat_minor": 5
}
